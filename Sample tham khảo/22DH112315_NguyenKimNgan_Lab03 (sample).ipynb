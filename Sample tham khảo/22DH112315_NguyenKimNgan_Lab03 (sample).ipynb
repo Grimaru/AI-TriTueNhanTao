{
 "cells": [
  {
   "cell_type": "code",
   "execution_count": 1,
   "metadata": {},
   "outputs": [
    {
     "name": "stdout",
     "output_type": "stream",
     "text": [
      "Bài 1\n"
     ]
    }
   ],
   "source": [
    "print(\"Bài 1\")"
   ]
  },
  {
   "cell_type": "code",
   "execution_count": 16,
   "metadata": {},
   "outputs": [
    {
     "name": "stdout",
     "output_type": "stream",
     "text": [
      "Point 1: x=6, y=5\n",
      "Point 2: x=5, y=4\n",
      "Khoảng cách: 1.4142135623730951\n"
     ]
    }
   ],
   "source": [
    "#Bài 1\n",
    "import math\n",
    "class MyPoint2D:\n",
    "  def __init__(point, x, y):\n",
    "    point.x = x\n",
    "    point.y = y\n",
    "\n",
    "  def distance(point, p: 'MyPoint2D'):\n",
    "        return math.sqrt((point.x - p.x) ** 2 + (point.y - p.y) ** 2)\n",
    "\n",
    "  def __repr__(point):\n",
    "        return f\"x={point.x}, y={point.y}\"\n",
    "\n",
    "\n",
    "x1 = int(input(\"Nhập x1:\"))\n",
    "y1 = int(input(\"Nhập y1:\"))\n",
    "p1 = MyPoint2D(x1, y1)\n",
    "\n",
    "print(f\"Point 1: {p1}\")\n",
    "\n",
    "x2 = int(input(\"Nhập x2:\"))\n",
    "y2 = int(input(\"Nhập y2:\"))\n",
    "p2 = MyPoint2D(x2, y2)\n",
    "\n",
    "print(f\"Point 2: {p2}\")\n",
    "\n",
    "dist = p1.distance(p2)\n",
    "print(f\"Khoảng cách: {dist}\")\n"
   ]
  },
  {
   "cell_type": "code",
   "execution_count": 2,
   "metadata": {},
   "outputs": [
    {
     "name": "stdout",
     "output_type": "stream",
     "text": [
      "Bài 2\n"
     ]
    }
   ],
   "source": [
    "print(\"Bài 2\")"
   ]
  },
  {
   "cell_type": "code",
   "execution_count": 4,
   "metadata": {},
   "outputs": [
    {
     "name": "stdout",
     "output_type": "stream",
     "text": [
      "Time: 09:13:45 AM\n",
      "Thời gian sau khi thêm 23 giờ: Time: 08:13:45 AM\n",
      "Thời gian sau khi thêm 56 phút: Time: 09:09:45 AM\n",
      "Thời gian sau khi thêm 34 giây: Time: 09:10:19 AM\n"
     ]
    }
   ],
   "source": [
    "#Bài 2\n",
    "class MyTime:\n",
    "  def __init__(time, hour:int, minute:int, second:int):\n",
    "    time.hour = hour\n",
    "    time.minute = minute\n",
    "    time.second = second\n",
    "\n",
    "  def display(time):\n",
    "       if (hour <= 12):\n",
    "            return str(f\"Time: {time.hour:02}:{time.minute:02}:{time.second:02} AM\")\n",
    "       elif (hour > 12):\n",
    "            return str(f\"Time: {time.hour:02}:{time.minute:02}:{time.second:02} PM\")\n",
    "\n",
    "  def add_hours(time, hours:int):\n",
    "        time.hour = (time.hour + hours) % 24\n",
    "\n",
    "  def add_minute(time, minutes:int):\n",
    "        total_minutes = time.minute + minutes\n",
    "        time.minute = total_minutes % 60\n",
    "        time.hour = (time.hour + total_minutes // 60) % 24\n",
    "\n",
    "  def add_seconds(time, seconds:int):\n",
    "        total_seconds = time.second + seconds\n",
    "        time.second = total_seconds % 60\n",
    "        total_minutes = time.minute + total_seconds // 60\n",
    "        time.minute = total_minutes % 60\n",
    "        time.hour = (time.hour + total_minutes // 60) % 24\n",
    "\n",
    "  def __repr__(time):\n",
    "        if (hour <= 12):\n",
    "            return f\"Time: {time.hour}:{time.minute}:{time.second} AM\"\n",
    "        elif (hour > 12):\n",
    "            return f\"Time: {time.hour}:{time.minute}:{time.second} PM\"\n",
    "\n",
    "hour = int(input(\"Nhập giờ:\"))\n",
    "minute = int(input(\"Nhập phút:\"))\n",
    "second = int(input(\"Nhập giây:\"))\n",
    "t = MyTime(hour,minute,second)\n",
    "\n",
    "print(f\"{t.display()}\")\n",
    "\n",
    "h = int(input(\"Nhập giờ cần thêm:\"))\n",
    "t.add_hours(h)\n",
    "print(f\"Thời gian sau khi thêm {h} giờ: {t.display()}\")\n",
    "\n",
    "m = int(input(\"Nhập phút cần thêm:\"))\n",
    "t.add_minute(m)\n",
    "print(f\"Thời gian sau khi thêm {m} phút: {t.display()}\")\n",
    "\n",
    "s = int(input(\"Nhập giây cần thêm:\"))\n",
    "t.add_seconds(s)\n",
    "print(f\"Thời gian sau khi thêm {s} giây: {t.display()}\")\n"
   ]
  },
  {
   "cell_type": "code",
   "execution_count": 3,
   "metadata": {},
   "outputs": [
    {
     "name": "stdout",
     "output_type": "stream",
     "text": [
      "Bài 3\n"
     ]
    }
   ],
   "source": [
    "print(\"Bài 3\")"
   ]
  },
  {
   "cell_type": "code",
   "execution_count": 3,
   "metadata": {},
   "outputs": [
    {
     "name": "stdout",
     "output_type": "stream",
     "text": [
      "Date: 02/09/2018\n",
      "Thời gian sau khi thêm 24 năm: Date: 02/09/2042\n",
      "Thời gian sau khi thêm 35 tháng: Date: 02/08/2045\n",
      "Thời gian sau khi thêm 26 ngày: Date: 28/08/2045\n"
     ]
    }
   ],
   "source": [
    "#Bài 3\n",
    "class MyDate:\n",
    "    def __init__(date, day:int, month:int, year:int):\n",
    "        date.day = day\n",
    "        date.month = month\n",
    "        date.year = year\n",
    "\n",
    "    def display(date):\n",
    "        return f\"{date.day:02}/{date.month:02}/{date.year:04}\"\n",
    "\n",
    "    def __repr__(date):\n",
    "        return f\"Date: {date.day:02}/{date.month:02}/{date.year:04}\"\n",
    "\n",
    "    def add_years(date, years:int):\n",
    "        date.year += years\n",
    "\n",
    "    def add_months(date, months:int):\n",
    "        date.year += (date.month + months - 1) // 12\n",
    "        date.month = (date.month + months - 1) % 12 + 1\n",
    "\n",
    "    def add_days(date, days:int):\n",
    "        while days > 0:\n",
    "            days_in_current_month = date.days_in_month(date.month, date.year)\n",
    "            if date.day + days <= days_in_current_month:\n",
    "                date.day += days\n",
    "                days = 0\n",
    "            else:\n",
    "                days -= (days_in_current_month - date.day + 1)\n",
    "                date.day = 1\n",
    "                date.add_months(1)\n",
    "\n",
    "    def days_in_month(date, month:int, year:int):\n",
    "        if month in {1, 3, 5, 7, 8, 10, 12}:\n",
    "            return 31\n",
    "        elif month in {4, 6, 9, 11}:\n",
    "            return 30\n",
    "        else:\n",
    "            if (year % 4 == 0 and year % 100 != 0) or (year % 400 == 0):\n",
    "                return 29\n",
    "            else:\n",
    "                return 28\n",
    "\n",
    "\n",
    "day = int(input(\"Nhập ngày:\"))\n",
    "month = int(input(\"Nhập tháng:\"))\n",
    "year = int(input(\"Nhập năm:\"))\n",
    "when = MyDate(day, month, year)\n",
    "\n",
    "print(f\"{when.display()}\")\n",
    "\n",
    "y = int(input(\"Nhập số năm cần thêm:\"))\n",
    "when.add_years(y)\n",
    "print(f\"Thời điểm sau khi thêm {y} năm: {when.display()}\")\n",
    "\n",
    "m = int(input(\"Nhập số tháng cần thêm:\"))\n",
    "when.add_months(m)\n",
    "print(f\"Thời điểm sau khi thêm {m} tháng: {when.display()}\")\n",
    "\n",
    "d = int(input(\"Nhập số ngày cần thêm:\"))\n",
    "when.add_days(d)\n",
    "print(f\"Thời điểm sau khi thêm {d} ngày: {when.display()}\")"
   ]
  },
  {
   "cell_type": "code",
   "execution_count": 5,
   "metadata": {},
   "outputs": [
    {
     "name": "stdout",
     "output_type": "stream",
     "text": [
      "Bài 7\n"
     ]
    }
   ],
   "source": [
    "print(\"Bài 7\")"
   ]
  },
  {
   "cell_type": "code",
   "execution_count": 3,
   "metadata": {},
   "outputs": [
    {
     "name": "stdout",
     "output_type": "stream",
     "text": [
      "Các phần tử có giá trị là số chẵn:\n"
     ]
    }
   ],
   "source": [
    "#Bài 7\n",
    "import json\n",
    "\n",
    "class InputData:\n",
    "    def __init__(self, file_name):\n",
    "        self.file_name = file_name\n",
    "\n",
    "    def read_elements(self):\n",
    "        with open(self.file_name, 'r') as file:\n",
    "            num_elements = int(file.readline().strip())\n",
    "            elements = [file.readline().strip() for _ in range(num_elements)]\n",
    "        return elements\n",
    "\n",
    "    def convert_to_dictionary(self, elements):\n",
    "        return {f\"element {i+1}\": element for i, element in enumerate(elements)}\n",
    "\n",
    "    def convert_to_json(self, dictionary):\n",
    "        return json.dumps(dictionary)\n",
    "\n",
    "    def write_to_file(self, data, output_file):\n",
    "        with open(output_file, 'w') as file:\n",
    "            file.write(data)\n",
    "\n",
    "class InputSpecialData(InputData):\n",
    "    def __init__(self, file_name):\n",
    "        super().__init__(file_name)\n",
    "\n",
    "    def thong_ke(self, dictionary):\n",
    "        even_elements = {key: value for key, value in dictionary.items() if isinstance(value, int) and value % 2 == 0}\n",
    "        return even_elements\n",
    "\n",
    "\n",
    "input_data = InputSpecialData('BT.txt')\n",
    "elements = input_data.read_elements()\n",
    "dictionary = input_data.convert_to_dictionary(elements)\n",
    "json_data = input_data.convert_to_json(dictionary)\n",
    "input_data.write_to_file(json_data, 'output.json')\n",
    "\n",
    "even_elements = input_data.thong_ke(dictionary)\n",
    "print(\"Các phần tử có giá trị là số chẵn:\")\n",
    "for key, value in even_elements.items():\n",
    "    print(f\"{key}: {value}\")\n"
   ]
  }
 ],
 "metadata": {
  "kernelspec": {
   "display_name": "base",
   "language": "python",
   "name": "python3"
  },
  "language_info": {
   "codemirror_mode": {
    "name": "ipython",
    "version": 3
   },
   "file_extension": ".py",
   "mimetype": "text/x-python",
   "name": "python",
   "nbconvert_exporter": "python",
   "pygments_lexer": "ipython3",
   "version": "3.11.7"
  }
 },
 "nbformat": 4,
 "nbformat_minor": 2
}
