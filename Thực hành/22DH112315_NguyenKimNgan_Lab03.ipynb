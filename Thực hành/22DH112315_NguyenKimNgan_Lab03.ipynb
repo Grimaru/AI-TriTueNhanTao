{
 "cells": [
  {
   "cell_type": "code",
   "execution_count": 48,
   "metadata": {},
   "outputs": [
    {
     "name": "stdout",
     "output_type": "stream",
     "text": [
      "Bài 1\n"
     ]
    }
   ],
   "source": [
    "print(\"Bài 1\")"
   ]
  },
  {
   "cell_type": "code",
   "execution_count": 66,
   "metadata": {},
   "outputs": [],
   "source": [
    "import math\n",
    "class MyPoint2D:\n",
    "  def __init__(point, x, y):\n",
    "    point.x = x\n",
    "    point.y = y\n",
    "\n",
    "  def distance(point, p: 'MyPoint2D'):\n",
    "        return math.sqrt((point.x - p.x) ** 2 + (point.y - p.y) ** 2)\n",
    "\n",
    "  def __repr__(point):\n",
    "        return f\"({point.x},{point.y})\"\n"
   ]
  },
  {
   "cell_type": "code",
   "execution_count": 67,
   "metadata": {},
   "outputs": [
    {
     "name": "stdout",
     "output_type": "stream",
     "text": [
      "Point 1: (9,3)\n",
      "Point 2: (9,23)\n",
      "Khoảng cách: 20.0\n"
     ]
    }
   ],
   "source": [
    "x1 = int(input(\"Nhập x1:\"))\n",
    "y1 = int(input(\"Nhập y1:\"))\n",
    "p1 = MyPoint2D(x1, y1)\n",
    "\n",
    "print(f\"Point 1: {p1}\")\n",
    "\n",
    "x2 = int(input(\"Nhập x2:\"))\n",
    "y2 = int(input(\"Nhập y2:\"))\n",
    "p2 = MyPoint2D(x2, y2)\n",
    "\n",
    "print(f\"Point 2: {p2}\")\n",
    "\n",
    "dist = p1.distance(p2)\n",
    "print(f\"Khoảng cách: {dist}\")"
   ]
  },
  {
   "cell_type": "code",
   "execution_count": 52,
   "metadata": {},
   "outputs": [
    {
     "name": "stdout",
     "output_type": "stream",
     "text": [
      "Bài 2\n"
     ]
    }
   ],
   "source": [
    "print(\"Bài 2\")"
   ]
  },
  {
   "cell_type": "code",
   "execution_count": 64,
   "metadata": {},
   "outputs": [],
   "source": [
    "class MyTime:\n",
    "  def __init__(time, hour:int, minute:int, second:int):\n",
    "    time.hour = hour\n",
    "    time.minute = minute\n",
    "    time.second = second\n",
    "\n",
    "  def display(time):\n",
    "       if (time.hour <= 12):\n",
    "            return str(f\"Time: {time.hour:02}:{time.minute:02}:{time.second:02} AM\")\n",
    "       elif (time.hour > 12):\n",
    "            return str(f\"Time: {time.hour:02}:{time.minute:02}:{time.second:02} PM\")\n",
    "\n",
    "  def add_hours(time, hours:int):\n",
    "        time.hour = (time.hour + hours) % 24\n",
    "\n",
    "  def add_minute(time, minutes:int):\n",
    "        total_minutes = time.minute + minutes\n",
    "        time.minute = total_minutes % 60\n",
    "        time.hour = (time.hour + total_minutes // 60) % 24\n",
    "\n",
    "  def add_seconds(time, seconds:int):\n",
    "        total_seconds = time.second + seconds\n",
    "        time.second = total_seconds % 60\n",
    "        total_minutes = time.minute + total_seconds // 60\n",
    "        time.minute = total_minutes % 60\n",
    "        time.hour = (time.hour + total_minutes // 60) % 24\n"
   ]
  },
  {
   "cell_type": "code",
   "execution_count": 65,
   "metadata": {},
   "outputs": [
    {
     "name": "stdout",
     "output_type": "stream",
     "text": [
      "Time: 09:23:45 AM\n",
      "Thời gian sau khi thêm 34 giờ: Time: 19:23:45 PM\n",
      "Thời gian sau khi thêm 26 phút: Time: 19:49:45 PM\n",
      "Thời gian sau khi thêm 34 giây: Time: 19:50:19 PM\n"
     ]
    }
   ],
   "source": [
    "hour = int(input(\"Nhập giờ:\"))\n",
    "minute = int(input(\"Nhập phút:\"))\n",
    "second = int(input(\"Nhập giây:\"))\n",
    "t = MyTime(hour,minute,second)\n",
    "\n",
    "print(f\"{t.display()}\")\n",
    "\n",
    "h = int(input(\"Nhập giờ cần thêm:\"))\n",
    "t.add_hours(h)\n",
    "print(f\"Thời gian sau khi thêm {h} giờ: {t.display()}\")\n",
    "\n",
    "m = int(input(\"Nhập phút cần thêm:\"))\n",
    "t.add_minute(m)\n",
    "print(f\"Thời gian sau khi thêm {m} phút: {t.display()}\")\n",
    "\n",
    "s = int(input(\"Nhập giây cần thêm:\"))\n",
    "t.add_seconds(s)\n",
    "print(f\"Thời gian sau khi thêm {s} giây: {t.display()}\")\n"
   ]
  },
  {
   "cell_type": "code",
   "execution_count": 49,
   "metadata": {},
   "outputs": [
    {
     "name": "stdout",
     "output_type": "stream",
     "text": [
      "Bài 3\n"
     ]
    }
   ],
   "source": [
    "print(\"Bài 3\")"
   ]
  },
  {
   "cell_type": "code",
   "execution_count": 62,
   "metadata": {},
   "outputs": [],
   "source": [
    "class MyDate:\n",
    "    def __init__(date, day:int, month:int, year:int):\n",
    "        date.day = day\n",
    "        date.month = month\n",
    "        date.year = year\n",
    "\n",
    "    def display(date):\n",
    "        return f\"{date.day:02}/{date.month:02}/{date.year:04}\"\n",
    "\n",
    "    def add_years(date, years:int):\n",
    "        date.year += years\n",
    "\n",
    "    def add_months(date, months:int):\n",
    "        date.year += (date.month + months - 1) // 12\n",
    "        date.month = (date.month + months - 1) % 12 + 1\n",
    "\n",
    "    def add_days(date, days:int):\n",
    "        while days > 0:\n",
    "            days_in_current_month = date.days_in_month(date.month, date.year)\n",
    "            if date.day + days <= days_in_current_month:\n",
    "                date.day += days\n",
    "                days = 0\n",
    "            else:\n",
    "                days -= (days_in_current_month - date.day + 1)\n",
    "                date.day = 1\n",
    "                date.add_months(1)\n",
    "\n",
    "    def days_in_month(date, month:int, year:int):\n",
    "        if month in {1, 3, 5, 7, 8, 10, 12}:\n",
    "            return 31\n",
    "        elif month in {4, 6, 9, 11}:\n",
    "            return 30\n",
    "        else:\n",
    "            if (year % 4 == 0 and year % 100 != 0) or (year % 400 == 0):\n",
    "                return 29\n",
    "            else:\n",
    "                return 28\n"
   ]
  },
  {
   "cell_type": "code",
   "execution_count": 63,
   "metadata": {},
   "outputs": [
    {
     "name": "stdout",
     "output_type": "stream",
     "text": [
      "Thời điểm đã nhập: 09/02/0045\n",
      "Thời điểm sau khi thêm 46 năm: 09/02/0091\n",
      "Thời điểm sau khi thêm 57 tháng: 09/11/0095\n",
      "Thời điểm sau khi thêm 24 ngày: 03/12/0095\n"
     ]
    }
   ],
   "source": [
    "day = int(input(\"Nhập ngày:\"))\n",
    "month = int(input(\"Nhập tháng:\"))\n",
    "year = int(input(\"Nhập năm:\"))\n",
    "when = MyDate(day, month, year)\n",
    "\n",
    "print(f\"Thời điểm đã nhập: {when.display()}\")\n",
    "\n",
    "y = int(input(\"Nhập số năm cần thêm:\"))\n",
    "when.add_years(y)\n",
    "print(f\"Thời điểm sau khi thêm {y} năm: {when.display()}\")\n",
    "\n",
    "m = int(input(\"Nhập số tháng cần thêm:\"))\n",
    "when.add_months(m)\n",
    "print(f\"Thời điểm sau khi thêm {m} tháng: {when.display()}\")\n",
    "\n",
    "d = int(input(\"Nhập số ngày cần thêm:\"))\n",
    "when.add_days(d)\n",
    "print(f\"Thời điểm sau khi thêm {d} ngày: {when.display()}\")\n"
   ]
  },
  {
   "cell_type": "code",
   "execution_count": 1,
   "metadata": {},
   "outputs": [
    {
     "name": "stdout",
     "output_type": "stream",
     "text": [
      "Bài 7\n"
     ]
    }
   ],
   "source": [
    "print(\"Bài 7\")"
   ]
  },
  {
   "cell_type": "code",
   "execution_count": 7,
   "metadata": {},
   "outputs": [],
   "source": [
    "import json\n",
    "class InputData:\n",
    "    def __init__(self):\n",
    "        self.list=[]\n",
    "        self.dict={}\n",
    "\n",
    "    def readElements(self,path):\n",
    "        f = open(path,\"r\")\n",
    "        for x in f.read():\n",
    "            if x == ' ':\n",
    "                continue\n",
    "            else:\n",
    "                self.list.append(int(x))\n",
    "        print(f\"Result: {self.list}\")\n",
    "        f.close()\n",
    "\n",
    "    def convertIntoDictionary(self):\n",
    "        i = 1\n",
    "        for x in self.list:\n",
    "            self.dict.update({\"Element \" + str(i): x})\n",
    "            i += 1\n",
    "        print(f\"Result: {self.dict}\")\n",
    "\n",
    "    def convertToJSON(self):\n",
    "        return json.dumps(self.dict)\n",
    "\n",
    "    def writeFile(self, data, path):\n",
    "        with open(path,\"w\") as file:\n",
    "            file.write(data)\n",
    "\n",
    "class InputSpecialData(InputData):\n",
    "    def ThongKe(self):\n",
    "        even = {key: value for key, value in self.dict.items() if isinstance(value, int) and value % 2 == 0}\n",
    "        return even\n"
   ]
  },
  {
   "cell_type": "code",
   "execution_count": 6,
   "metadata": {},
   "outputs": [
    {
     "name": "stdout",
     "output_type": "stream",
     "text": [
      "Result: [7, 3, 0, 8, 2, 4]\n",
      "Result: {'Element 1': 7, 'Element 2': 3, 'Element 3': 0, 'Element 4': 8, 'Element 5': 2, 'Element 6': 4}\n",
      "Các phần tử có giá trị là số chẵn:\n",
      "Element 3: 0\n",
      "Element 4: 8\n",
      "Element 5: 2\n",
      "Element 6: 4\n"
     ]
    }
   ],
   "source": [
    "#file = InputData()\n",
    "file = InputSpecialData() \n",
    "\n",
    "#Áp dụng với file = InputData()\n",
    "file.readElements(\"BT.txt\")\n",
    "file.convertIntoDictionary()\n",
    "file.convertToJSON()\n",
    "file.writeFile(file.convertToJSON(), 'output.json')\n",
    "\n",
    "#Áp dụng với file = InputSpecialData()\n",
    "even = file.ThongKe()\n",
    "print(\"Các phần tử có giá trị là số chẵn:\")\n",
    "for key, value in even.items():\n",
    "    print(f\"{key}: {value}\")"
   ]
  }
 ],
 "metadata": {
  "kernelspec": {
   "display_name": "base",
   "language": "python",
   "name": "python3"
  },
  "language_info": {
   "codemirror_mode": {
    "name": "ipython",
    "version": 3
   },
   "file_extension": ".py",
   "mimetype": "text/x-python",
   "name": "python",
   "nbconvert_exporter": "python",
   "pygments_lexer": "ipython3",
   "version": "3.11.7"
  }
 },
 "nbformat": 4,
 "nbformat_minor": 2
}
