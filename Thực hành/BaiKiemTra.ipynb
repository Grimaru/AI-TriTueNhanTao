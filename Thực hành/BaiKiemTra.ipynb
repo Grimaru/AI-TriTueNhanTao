{
 "cells": [
  {
   "cell_type": "code",
   "execution_count": 2,
   "metadata": {},
   "outputs": [
    {
     "name": "stdout",
     "output_type": "stream",
     "text": [
      "Total edges: 6\n",
      "DFS Path: [0, 1, 2, 3]\n",
      "DFS Edges: [(0, 1), (1, 2), (2, 3)]\n"
     ]
    }
   ],
   "source": [
    "#Bài 1\n",
    "class Graph:\n",
    "    def __init__(self, file_path):\n",
    "        self.adj_matrix = []\n",
    "        self.load_graph(file_path)\n",
    "        \n",
    "    def load_graph(self, file_path):\n",
    "        with open(file_path, 'r') as file:\n",
    "            for line in file:\n",
    "                self.adj_matrix.append(list(map(int, line.strip().split())))\n",
    "    \n",
    "    def total_edges(self):\n",
    "        edges = 0\n",
    "        for row in self.adj_matrix:\n",
    "            edges += sum(row)\n",
    "        return edges // 2  # since the graph is undirected, every edge is counted twice\n",
    "    \n",
    "    def dfs(self, start, end, path=None, visited=None):\n",
    "        if path is None:\n",
    "            path = []\n",
    "        if visited is None:\n",
    "            visited = set()\n",
    "        \n",
    "        path.append(start)\n",
    "        visited.add(start)\n",
    "        \n",
    "        if start == end:\n",
    "            return path\n",
    "        \n",
    "        for neighbor, is_connected in enumerate(self.adj_matrix[start]):\n",
    "            if is_connected and neighbor not in visited:\n",
    "                result = self.dfs(neighbor, end, path, visited)\n",
    "                if result:\n",
    "                    return result\n",
    "        \n",
    "        path.pop()\n",
    "        return None\n",
    "    \n",
    "    def dfs_edges(self, start, end):\n",
    "        path = self.dfs(start, end)\n",
    "        edges = []\n",
    "        if path:\n",
    "            for i in range(len(path) - 1):\n",
    "                edges.append((path[i], path[i+1]))\n",
    "        return edges\n",
    "\n",
    "graph = Graph('graph.txt')\n",
    "print(\"Total edges:\", graph.total_edges())\n",
    "print(\"DFS Path:\", graph.dfs(0, 3))\n",
    "print(\"DFS Edges:\", graph.dfs_edges(0, 3))"
   ]
  },
  {
   "cell_type": "code",
   "execution_count": null,
   "metadata": {},
   "outputs": [],
   "source": [
    "#Bài 2\n",
    "import pandas as pd\n",
    "from sklearn.cluster import KMeans\n",
    "import matplotlib.pyplot as plt\n",
    "\n",
    "class DataClustering:\n",
    "    def __init__(self, file_path):\n",
    "        self.df = pd.read_csv(file_path)\n",
    "    \n",
    "    def clustering_centers(self):\n",
    "        kmeans = KMeans(n_clusters=3)\n",
    "        self.df['Cluster'] = kmeans.fit_predict(self.df[['ApplicantIncome', 'LoanAmount']])\n",
    "        return kmeans.cluster_centers_\n",
    "    \n",
    "    def plot_clusters(self):\n",
    "        kmeans = KMeans(n_clusters=3)\n",
    "        self.df['Cluster'] = kmeans.fit_predict(self.df[['ApplicantIncome', 'LoanAmount']])\n",
    "        \n",
    "        plt.figure(figsize=(15, 5))\n",
    "        for i in range(3):\n",
    "            plt.subplot(1, 3, i+1)\n",
    "            cluster = self.df[self.df['Loan_Amount_Term'] == self.df['Loan_Amount_Term'].unique()[i]]\n",
    "            plt.scatter(cluster['ApplicantIncome'], cluster['LoanAmount'], c=cluster['Cluster'], cmap='viridis')\n",
    "            plt.xlabel('ApplicantIncome')\n",
    "            plt.ylabel('LoanAmount')\n",
    "            plt.title(f'Cluster {i+1}')\n",
    "        \n",
    "        plt.tight_layout()\n",
    "        plt.show()\n",
    "\n",
    "data_clustering = DataClustering('data.csv')\n",
    "print(\"Cluster Centers:\", data_clustering.clustering_centers())\n",
    "data_clustering.plot_clusters()"
   ]
  }
 ],
 "metadata": {
  "kernelspec": {
   "display_name": "base",
   "language": "python",
   "name": "python3"
  },
  "language_info": {
   "codemirror_mode": {
    "name": "ipython",
    "version": 3
   },
   "file_extension": ".py",
   "mimetype": "text/x-python",
   "name": "python",
   "nbconvert_exporter": "python",
   "pygments_lexer": "ipython3",
   "version": "3.11.7"
  }
 },
 "nbformat": 4,
 "nbformat_minor": 2
}
