{
 "cells": [
  {
   "cell_type": "code",
   "execution_count": 18,
   "metadata": {},
   "outputs": [],
   "source": [
    "import numpy as np"
   ]
  },
  {
   "cell_type": "code",
   "execution_count": 19,
   "metadata": {},
   "outputs": [
    {
     "name": "stdout",
     "output_type": "stream",
     "text": [
      "Ma trận kề\n",
      "[[0 0 1 1 1 1 0 0 0 0]\n",
      " [0 0 0 0 0 0 0 0 1 1]\n",
      " [1 0 0 0 0 0 0 1 0 0]\n",
      " [1 0 0 0 1 0 0 1 0 0]\n",
      " [1 0 0 1 0 0 0 0 1 1]\n",
      " [1 0 0 0 0 0 1 0 1 0]\n",
      " [0 0 0 0 0 1 0 0 0 0]\n",
      " [0 0 1 1 0 0 0 0 0 1]\n",
      " [0 1 0 1 1 0 0 0 0 1]\n",
      " [0 1 0 0 1 0 0 1 1 0]]\n"
     ]
    }
   ],
   "source": [
    "#Bài 1\n",
    "adj_matrix = np.array([\n",
    "    [0,0,1,1,1,1,0,0,0,0],\n",
    "    [0,0,0,0,0,0,0,0,1,1],\n",
    "    [1,0,0,0,0,0,0,1,0,0],\n",
    "    [1,0,0,0,1,0,0,1,0,0],\n",
    "    [1,0,0,1,0,0,0,0,1,1],\n",
    "    [1,0,0,0,0,0,1,0,1,0],\n",
    "    [0,0,0,0,0,1,0,0,0,0],\n",
    "    [0,0,1,1,0,0,0,0,0,1],\n",
    "    [0,1,0,1,1,0,0,0,0,1],\n",
    "    [0,1,0,0,1,0,0,1,1,0]\n",
    "])\n",
    "print(\"Ma trận kề\")\n",
    "print(adj_matrix)"
   ]
  },
  {
   "cell_type": "code",
   "execution_count": 20,
   "metadata": {},
   "outputs": [
    {
     "name": "stdout",
     "output_type": "stream",
     "text": [
      "Số hàng: 10\n",
      "Số cột: 10\n"
     ]
    }
   ],
   "source": [
    "hang, cot = adj_matrix.shape\n",
    "print(f\"Số hàng: {hang}\")\n",
    "print(f\"Số cột: {cot}\")"
   ]
  },
  {
   "cell_type": "code",
   "execution_count": 22,
   "metadata": {},
   "outputs": [],
   "source": [
    "def bfs_search(adj_matrix,node):\n",
    "    visited=[]\n",
    "    bfs=[]\n",
    "    bfs.append(node)\n",
    "    visited.append(node)\n",
    "    for x in bfs:\n",
    "        for i in range(cot):\n",
    "            if adj_matrix[x-1,i] == 1 and (i+1) not in visited:\n",
    "                bfs.append(i+1)\n",
    "                visited.append(i+1)\n",
    "        if len(bfs) == cot:\n",
    "            break\n",
    "    return bfs"
   ]
  },
  {
   "cell_type": "code",
   "execution_count": 23,
   "metadata": {},
   "outputs": [
    {
     "name": "stdout",
     "output_type": "stream",
     "text": [
      "[5, 1, 4, 9, 10, 3, 6, 8, 2, 7]\n"
     ]
    }
   ],
   "source": [
    "b = int(input(\"Nhập đỉnh bắt đầu để duyệt BFS: \"))\n",
    "bfs_result = bfs_search(adj_matrix, b)\n",
    "print(bfs_result)"
   ]
  },
  {
   "cell_type": "code",
   "execution_count": 24,
   "metadata": {},
   "outputs": [
    {
     "name": "stdout",
     "output_type": "stream",
     "text": [
      "{'1': ['3', '4', '5', '6'], '2': ['9', '10'], '3': ['1', '8'], '4': ['1', '5', '8'], '5': ['1', '4', '9', '10'], '6': ['1', '7', '9'], '7': ['6'], '8': ['3', '4', '10'], '9': ['2', '5', '6', '10'], '10': ['2', '5', '8', '9']}\n"
     ]
    }
   ],
   "source": [
    "adj_list={\n",
    "    '1':['3','4','5','6'],\n",
    "    '2':['9','10'],\n",
    "    '3':['1','8'],\n",
    "    '4':['1','5','8'],\n",
    "    '5':['1','4','9','10'],\n",
    "    '6':['1','7','9'],\n",
    "    '7':['6'],\n",
    "    '8':['3','4','10'],\n",
    "    '9':['2','5','6','10'],\n",
    "    '10':['2','5','8','9']\n",
    "}\n",
    "print(adj_list)"
   ]
  },
  {
   "cell_type": "code",
   "execution_count": 38,
   "metadata": {},
   "outputs": [],
   "source": [
    "visited=[]\n",
    "def dfs_search(adj_list, visited, node):\n",
    "    if node not in visited:\n",
    "        print(node)\n",
    "        visited.append(node)\n",
    "        for phantu in adj_list[node]:\n",
    "            dfs_search(adj_list, visited, phantu)"
   ]
  },
  {
   "cell_type": "code",
   "execution_count": 34,
   "metadata": {},
   "outputs": [
    {
     "name": "stdout",
     "output_type": "stream",
     "text": [
      "7\n",
      "6\n",
      "1\n",
      "3\n",
      "8\n",
      "4\n",
      "5\n",
      "9\n",
      "2\n",
      "10\n"
     ]
    }
   ],
   "source": [
    "dfs_search(adj_list, visited, '7')\n"
   ]
  },
  {
   "cell_type": "code",
   "execution_count": null,
   "metadata": {},
   "outputs": [
    {
     "name": "stdout",
     "output_type": "stream",
     "text": [
      "Ma trận kề\n",
      "[[0 1 1 1 0 0 0]\n",
      " [0 0 0 0 1 0 0]\n",
      " [0 0 0 0 0 1 0]\n",
      " [0 0 1 0 1 0 1]\n",
      " [0 0 0 0 0 0 1]\n",
      " [0 0 0 0 0 0 1]\n",
      " [0 0 0 0 0 0 0]]\n"
     ]
    }
   ],
   "source": [
    "#Bài 2\n",
    "adj_matrix = np.array([\n",
    "    [0,1,1,1,0,0,0],\n",
    "    [0,0,0,0,1,0,0],\n",
    "    [0,0,0,0,0,1,0],\n",
    "    [0,0,1,0,1,0,1],\n",
    "    [0,0,0,0,0,0,1],\n",
    "    [0,0,0,0,0,0,1],\n",
    "    [0,0,0,0,0,0,0]\n",
    "])\n",
    "print(\"Ma trận kề\")\n",
    "print(adj_matrix)"
   ]
  },
  {
   "cell_type": "code",
   "execution_count": null,
   "metadata": {},
   "outputs": [
    {
     "name": "stdout",
     "output_type": "stream",
     "text": [
      "Số hàng: 7\n",
      "Số cột: 7\n"
     ]
    }
   ],
   "source": [
    "hang, cot = adj_matrix.shape\n",
    "print(f\"Số hàng: {hang}\")\n",
    "print(f\"Số cột: {cot}\")"
   ]
  },
  {
   "cell_type": "code",
   "execution_count": null,
   "metadata": {},
   "outputs": [
    {
     "name": "stdout",
     "output_type": "stream",
     "text": [
      "[1, 2, 3, 4, 5, 6, 7]\n"
     ]
    }
   ],
   "source": [
    "b = int(input(\"Nhập đỉnh bắt đầu để duyệt BFS: \"))\n",
    "bfs_result = bfs_search(adj_matrix, b)\n",
    "print(bfs_result)"
   ]
  },
  {
   "cell_type": "code",
   "execution_count": 35,
   "metadata": {},
   "outputs": [
    {
     "name": "stdout",
     "output_type": "stream",
     "text": [
      "{'1': ['2', '3', '4'], '2': ['5'], '3': ['6'], '4': ['3', '5', '7'], '5': ['7'], '6': ['7'], '7': []}\n"
     ]
    }
   ],
   "source": [
    "adj_list={\n",
    "    '1':['2','3','4'],\n",
    "    '2':['5'],\n",
    "    '3':['6'],\n",
    "    '4':['3','5','7'],\n",
    "    '5':['7'],\n",
    "    '6':['7'],\n",
    "    '7':[]\n",
    "}\n",
    "print(adj_list)"
   ]
  },
  {
   "cell_type": "code",
   "execution_count": 39,
   "metadata": {},
   "outputs": [
    {
     "name": "stdout",
     "output_type": "stream",
     "text": [
      "4\n",
      "3\n",
      "6\n",
      "7\n",
      "5\n"
     ]
    }
   ],
   "source": [
    "dfs_search(adj_list, visited, '4')"
   ]
  },
  {
   "cell_type": "code",
   "execution_count": 24,
   "metadata": {},
   "outputs": [],
   "source": [
    "import numpy as np\n",
    "graph1 = np.array([\n",
    "    [0, 1, 1, 1, 0, 0, 0, 0, 0, 0, 0, 0, 0, 0], #S\n",
    "    [1, 0, 0, 0, 1, 1, 0, 0, 0, 0, 0, 0, 0, 0], #A\n",
    "    [1, 0, 0, 0, 0, 0, 1, 1, 0, 0, 0, 0, 0, 0], #B\n",
    "    [1, 0, 0, 0, 0, 0, 0, 0, 1, 0, 0, 0, 0, 0], #C\n",
    "    [0, 1, 0, 0, 0, 0, 0, 0, 0, 0, 0, 0, 0, 0], #D\n",
    "    [0, 1, 0, 0, 0, 0, 0, 0, 0, 0, 0, 0, 0, 0], #E\n",
    "    [0, 0, 1, 0, 0, 0, 0, 0, 0, 0, 0, 0, 0, 0], #F\n",
    "    [0, 0, 1, 0, 0, 0, 0, 0, 0, 0, 0, 0, 0, 0], #G\n",
    "    [0, 0, 0, 1, 0, 0, 0, 0, 0, 1, 1, 0, 0, 0], #H\n",
    "    [0, 0, 0, 0, 0, 0, 0, 0, 1, 0, 0, 1, 1, 1], #I\n",
    "    [0, 0, 0, 0, 0, 0, 0, 0, 1, 0, 0, 0, 0, 0], #J\n",
    "    [0, 0, 0, 0, 0, 0, 0, 0, 0, 1, 0, 0, 0, 0], #K\n",
    "    [0, 0, 0, 0, 0, 0, 0, 0, 0, 1, 0, 0, 0, 0], #L\n",
    "    [0, 0, 0, 0, 0, 0, 0, 0, 0, 1, 0, 0, 0, 0] #M\n",
    "])"
   ]
  },
  {
   "cell_type": "code",
   "execution_count": 25,
   "metadata": {},
   "outputs": [],
   "source": [
    "ver_list = ['S', 'A', 'B', 'C', 'D', 'E', 'F', 'G', 'H', 'I', 'J', 'K', 'L', 'M']\n",
    "ver_dict = {\n",
    "    'S':0,\n",
    "    'A':1,\n",
    "    'B':2,\n",
    "    'C':3,\n",
    "    'D':4,\n",
    "    'E':5,\n",
    "    'F':6,\n",
    "    'G':7,\n",
    "    'H':8,\n",
    "    'I':9,\n",
    "    'J':10,\n",
    "    'K':11,\n",
    "    'L':12,\n",
    "    'M':13,\n",
    "}"
   ]
  },
  {
   "cell_type": "code",
   "execution_count": 26,
   "metadata": {},
   "outputs": [],
   "source": [
    "def bfs_search(graph1,start,end):\n",
    "    node_start=ver_dict[start]\n",
    "    node_end=ver_dict[end]\n",
    "    visited=[node_start]\n",
    "    bfs=[node_start]\n",
    "    r, c = graph1.shape\n",
    "    for x in bfs:\n",
    "        for j in range(c):\n",
    "            if graph1[x,j] == 1 and j not in visited:\n",
    "                visited.append(j)\n",
    "                bfs.append(j)\n",
    "                if j == node_end:\n",
    "                    break\n",
    "        if bfs[len(bfs)- 1] == node_end:\n",
    "            break\n",
    "    return bfs"
   ]
  },
  {
   "cell_type": "code",
   "execution_count": 27,
   "metadata": {},
   "outputs": [
    {
     "name": "stdout",
     "output_type": "stream",
     "text": [
      "A\n",
      "S\n",
      "D\n",
      "E\n",
      "B\n",
      "C\n",
      "F\n"
     ]
    }
   ],
   "source": [
    "bfs_result = bfs_search(graph1,'A','F')\n",
    "for x in bfs_result:\n",
    "    print(ver_list[x])"
   ]
  },
  {
   "cell_type": "code",
   "execution_count": 28,
   "metadata": {},
   "outputs": [],
   "source": [
    "adj_list={\n",
    "    'S':['A','B','C'],\n",
    "    'A':['S','D','E'],\n",
    "    'B':['S','F','G'],\n",
    "    'C':['S','H'],\n",
    "    'D':['A'],\n",
    "    'E':['A'],\n",
    "    'F':['B'],\n",
    "    'G':['B'],\n",
    "    'H':['C','I','J'],\n",
    "    'I':['H','K','L','M'],\n",
    "    'J':['H'],\n",
    "    'K':['I'],\n",
    "    'L':['I'],\n",
    "    'M':['I']\n",
    "}"
   ]
  },
  {
   "cell_type": "code",
   "execution_count": 29,
   "metadata": {},
   "outputs": [],
   "source": [
    "visited=[]\n",
    "def dfs_search(adj_list, visited, start, end):\n",
    "    if start not in visited:\n",
    "        print(start)\n",
    "        visited.append(start)\n",
    "        if start == end:\n",
    "            return True\n",
    "        for neighbor in adj_list[start]:\n",
    "            if dfs_search(adj_list, visited, neighbor, end):\n",
    "                return True\n",
    "    return False"
   ]
  },
  {
   "cell_type": "code",
   "execution_count": 30,
   "metadata": {},
   "outputs": [
    {
     "name": "stdout",
     "output_type": "stream",
     "text": [
      "S\n",
      "A\n",
      "D\n",
      "E\n",
      "B\n",
      "F\n",
      "G\n"
     ]
    }
   ],
   "source": [
    "dfs_result = dfs_search(adj_list, visited, 'S', 'G')"
   ]
  },
  {
   "cell_type": "code",
   "execution_count": 40,
   "metadata": {},
   "outputs": [],
   "source": [
    "wgraph = {\n",
    "    'S': [('A', 3), ('B', 6), ('C', 5)],\n",
    "    'A': [('D', 9), ('E', 8)],\n",
    "    'B': [('G', 12), ('F', 14)],\n",
    "    'C': [('H', 7)],\n",
    "    'H': [('I', 5), ('J', 6)],\n",
    "    'I': [('K', 1), ('L', 10), ('M', 2)],\n",
    "    'J': [], 'D': [], 'E': [], 'F': [], 'G': [], 'K': [], 'L': [], 'M': []\n",
    "}"
   ]
  },
  {
   "cell_type": "code",
   "execution_count": 41,
   "metadata": {},
   "outputs": [],
   "source": [
    "import heapq\n",
    "from collections import deque, defaultdict\n",
    "def best_first_search(wgraph, start):\n",
    "    pqueue = [(0, start, [start])]\n",
    "    visited = set()\n",
    "    result_order = []\n",
    "\n",
    "    while pqueue:\n",
    "        pqueue.sort()  \n",
    "        weight, vertex, path = pqueue.pop(0)  \n",
    "        if vertex in visited:\n",
    "            continue\n",
    "        visited.add(vertex)\n",
    "        result_order.append(vertex)\n",
    "\n",
    "        for neighbor, weight in wgraph[vertex]:\n",
    "            if neighbor not in visited:\n",
    "                pqueue.append((weight, neighbor, path + [neighbor]))\n",
    "\n",
    "    return result_order"
   ]
  },
  {
   "cell_type": "code",
   "execution_count": 42,
   "metadata": {},
   "outputs": [
    {
     "name": "stdout",
     "output_type": "stream",
     "text": [
      "['S', 'A', 'C', 'B', 'H', 'I', 'K', 'M', 'J', 'E', 'D', 'L', 'G', 'F']\n"
     ]
    }
   ],
   "source": [
    "bestfs_result = best_first_search(wgraph,'S')\n",
    "print(bestfs_result)"
   ]
  }
 ],
 "metadata": {
  "kernelspec": {
   "display_name": "base",
   "language": "python",
   "name": "python3"
  },
  "language_info": {
   "codemirror_mode": {
    "name": "ipython",
    "version": 3
   },
   "file_extension": ".py",
   "mimetype": "text/x-python",
   "name": "python",
   "nbconvert_exporter": "python",
   "pygments_lexer": "ipython3",
   "version": "3.11.7"
  }
 },
 "nbformat": 4,
 "nbformat_minor": 2
}
