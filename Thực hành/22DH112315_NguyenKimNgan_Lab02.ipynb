{
 "cells": [
  {
   "cell_type": "code",
   "execution_count": 1,
   "metadata": {},
   "outputs": [
    {
     "name": "stdout",
     "output_type": "stream",
     "text": [
      "Bài 01\n"
     ]
    }
   ],
   "source": [
    "print(\"Bài 01\")"
   ]
  },
  {
   "cell_type": "code",
   "execution_count": 1,
   "metadata": {},
   "outputs": [
    {
     "name": "stdout",
     "output_type": "stream",
     "text": [
      "List suits sau khi nhập từ người dùng: ['Hearts', 'Diamonds', 'Clubs', 'Spades']\n",
      "List values sau khi nhập từ người dùng: ['Two', 'Three', 'Four', 'Five', 'Six', 'Seven', 'Eight', 'Nine', 'Ten', 'Jack', 'Queen', 'King', 'Ace']\n",
      "Two of Hearts\n",
      "Two of Diamonds\n",
      "Two of Clubs\n",
      "Two of Spades\n",
      "Three of Hearts\n",
      "Three of Diamonds\n",
      "Three of Clubs\n",
      "Three of Spades\n",
      "Four of Hearts\n",
      "Four of Diamonds\n",
      "Four of Clubs\n",
      "Four of Spades\n",
      "Five of Hearts\n",
      "Five of Diamonds\n",
      "Five of Clubs\n",
      "Five of Spades\n",
      "Six of Hearts\n",
      "Six of Diamonds\n",
      "Six of Clubs\n",
      "Six of Spades\n",
      "Seven of Hearts\n",
      "Seven of Diamonds\n",
      "Seven of Clubs\n",
      "Seven of Spades\n",
      "Eight of Hearts\n",
      "Eight of Diamonds\n",
      "Eight of Clubs\n",
      "Eight of Spades\n",
      "Nine of Hearts\n",
      "Nine of Diamonds\n",
      "Nine of Clubs\n",
      "Nine of Spades\n",
      "Ten of Hearts\n",
      "Ten of Diamonds\n",
      "Ten of Clubs\n",
      "Ten of Spades\n",
      "Jack of Hearts\n",
      "Jack of Diamonds\n",
      "Jack of Clubs\n",
      "Jack of Spades\n",
      "Queen of Hearts\n",
      "Queen of Diamonds\n",
      "Queen of Clubs\n",
      "Queen of Spades\n",
      "King of Hearts\n",
      "King of Diamonds\n",
      "King of Clubs\n",
      "King of Spades\n",
      "Ace of Hearts\n",
      "Ace of Diamonds\n",
      "Ace of Clubs\n",
      "Ace of Spades\n"
     ]
    }
   ],
   "source": [
    "suits=input(\"Nhập thuộc tính bài:\")\n",
    "suit=suits.split(',')\n",
    "print(\"List suits sau khi nhập từ người dùng:\", suit)\n",
    "\n",
    "values=input(\"Nhập giá trị bài:\")\n",
    "value=values.split(',')\n",
    "print(\"List values sau khi nhập từ người dùng:\", value)\n",
    "\n",
    "for i in value:\n",
    "\tfor j in suit:\n",
    "\t\tprint(f\"{i} of {j}\")\t"
   ]
  },
  {
   "cell_type": "code",
   "execution_count": 2,
   "metadata": {},
   "outputs": [
    {
     "name": "stdout",
     "output_type": "stream",
     "text": [
      "Bài 2\n"
     ]
    }
   ],
   "source": [
    "print(\"Bài 2\")"
   ]
  },
  {
   "cell_type": "code",
   "execution_count": 10,
   "metadata": {},
   "outputs": [
    {
     "name": "stdout",
     "output_type": "stream",
     "text": [
      "Ma trận:\n",
      "['M', 'M', 'M', 'A', 'H', 'M', 'S', 'M', 'H', 'M']\n",
      "['S', 'M', 'M', 'M', 'M', 'A', 'M', 'M', 'A', 'M']\n",
      "['M', 'M', 'H', 'M', 'M', 'M', 'H', 'M', 'H', 'M']\n",
      "['A', 'M', 'M', 'M', 'H', 'M', 'M', 'M', 'M', 'M']\n",
      "\n",
      "Số phần tử trong list: 40\n",
      "Tần số xuất hiện của từng giá trị:\n",
      "M: 28\n",
      "A: 4\n",
      "H: 6\n",
      "S: 2\n"
     ]
    }
   ],
   "source": [
    "DayKiTu = input(\"Nhập dãy kí tự: \")\n",
    "PhanTu=DayKiTu.split(',')\n",
    "n = int(input(\"Nhập số hàng: \"))\n",
    "m = int(input(\"Nhập số cột: \"))\n",
    "\n",
    "matrix = [PhanTu[i:i+m] for i in range(0, len(PhanTu), m)]\n",
    "numItems = len(PhanTu)\n",
    "\n",
    "\n",
    "frequency_dict = {}\n",
    "for row in matrix:\n",
    "    for item in row:\n",
    "        if item in frequency_dict:\n",
    "            frequency_dict[item] += 1\n",
    "        else:\n",
    "            frequency_dict[item] = 1\n",
    "\n",
    "\n",
    "print(\"Ma trận:\")\n",
    "for row in matrix:\n",
    "    print(row)\n",
    "\n",
    "print()\n",
    "\n",
    "print(f\"Số phần tử trong list: {numItems}\")\n",
    "\n",
    "\n",
    "print(\"Tần số xuất hiện của từng giá trị:\")\n",
    "for key, value in frequency_dict.items():\n",
    "    print(f\"{key}: {value}\")\n",
    "\n"
   ]
  },
  {
   "cell_type": "code",
   "execution_count": 1,
   "metadata": {},
   "outputs": [
    {
     "name": "stdout",
     "output_type": "stream",
     "text": [
      "Bài 3\n"
     ]
    }
   ],
   "source": [
    "print(\"Bài 3\")"
   ]
  },
  {
   "cell_type": "code",
   "execution_count": 12,
   "metadata": {},
   "outputs": [
    {
     "name": "stdout",
     "output_type": "stream",
     "text": [
      "***\n",
      "***\n",
      "***\n",
      "***\n"
     ]
    }
   ],
   "source": [
    "width = int(input(\"Nhập chiều rộng:\")) \n",
    "length = int(input(\"Nhập chiều dài:\")) \n",
    "\n",
    "for i in range(width):\n",
    "        print('*' * length)\n"
   ]
  },
  {
   "cell_type": "code",
   "execution_count": 4,
   "metadata": {},
   "outputs": [
    {
     "name": "stdout",
     "output_type": "stream",
     "text": [
      "Bài 4\n"
     ]
    }
   ],
   "source": [
    "print(\"Bài 4\")"
   ]
  },
  {
   "cell_type": "code",
   "execution_count": 13,
   "metadata": {},
   "outputs": [
    {
     "name": "stdout",
     "output_type": "stream",
     "text": [
      "*\n",
      "**\n",
      "* *\n",
      "*  *\n",
      "*   *\n",
      "*    *\n",
      "*     *\n",
      "*      *\n",
      "*       *\n",
      "**********\n"
     ]
    }
   ],
   "source": [
    "height = int(input(\"Nhập chiều cao:\"))\n",
    "for i in range(1, height + 1):\n",
    "    if i == 1 or i == height: \n",
    "        print('*' * i)\n",
    "    else: #Nếu i == 2 trở lên đến height - 1\n",
    "        print('*' + ' ' * (i - 2) + '*') "
   ]
  },
  {
   "cell_type": "code",
   "execution_count": 6,
   "metadata": {},
   "outputs": [
    {
     "name": "stdout",
     "output_type": "stream",
     "text": [
      "Bài 5\n"
     ]
    }
   ],
   "source": [
    "print(\"Bài 5\")"
   ]
  },
  {
   "cell_type": "code",
   "execution_count": 14,
   "metadata": {},
   "outputs": [
    {
     "name": "stdout",
     "output_type": "stream",
     "text": [
      "Dãy số fibonacci như sau: [0, 1, 1, 2, 3, 5, 8, 13, 21]\n",
      "Giá trị Fibonacci thứ 9 là: 21\n"
     ]
    }
   ],
   "source": [
    "def FindFibonacci(n):\n",
    "    fibo = [0, 1]\n",
    "    while len(fibo) < n:\n",
    "        next_fibo = fibo[-1] + fibo[-2]\n",
    "        fibo.append(next_fibo)\n",
    "    return fibo\n",
    "\n",
    "def FindNumberFibonacci(n):\n",
    "    fibo = [0, 1]\n",
    "    for i in range(2, n):\n",
    "        next_fibo = fibo[-1] + fibo[-2]\n",
    "        fibo.append(next_fibo)\n",
    "    if n > 0:\n",
    "        return fibo[n - 1] \n",
    "    else: print(\"Không có giá trị Fibonacci cho n <= 0\")\n",
    "\n",
    "n = int(input(\"Nhập n:\"))\n",
    "print(f\"Dãy số fibonacci như sau:\", FindFibonacci(n))\n",
    "print(f\"Giá trị Fibonacci thứ {n} là:\", FindNumberFibonacci(n))\n"
   ]
  },
  {
   "cell_type": "code",
   "execution_count": 8,
   "metadata": {},
   "outputs": [
    {
     "name": "stdout",
     "output_type": "stream",
     "text": [
      "Bài 6\n"
     ]
    }
   ],
   "source": [
    "print(\"Bài 6\")"
   ]
  },
  {
   "cell_type": "code",
   "execution_count": 1,
   "metadata": {},
   "outputs": [
    {
     "name": "stdout",
     "output_type": "stream",
     "text": [
      "Mảng 1 chiều: [31 30 74 18 87 40 11 35 41 59 35 43 57 97 17  1 34 38 48  4 80 68 62  8\n",
      " 77]\n",
      "\n",
      "Mảng 2 chiều:\n",
      "[[31 30 74 18 87]\n",
      " [40 11 35 41 59]\n",
      " [35 43 57 97 17]\n",
      " [ 1 34 38 48  4]\n",
      " [80 68 62  8 77]]\n",
      "\n",
      "---Info---\n",
      "Shape: (5, 5)\n",
      "Number of dimensions: 2\n",
      "Data type: int32\n",
      "Size of each element (in bytes): 4\n",
      "Total number of elements: 25\n",
      "\n",
      "Số lần xuất hiện của giá trị 25 trong mảng 2 chiều: 0\n",
      "\n",
      "Tổng của hai mảng:\n",
      "[[ 51 145 121  30 108]\n",
      " [ 80  98  82  70 175]\n",
      " [125  62  64 123 107]\n",
      " [ 91 133 181 117  82]\n",
      " [108 161  47 115  96]]\n",
      "\n",
      "Tích của hai mảng:\n",
      "[[ 560 5046 2328  176 2835]\n",
      " [1311 1440 1281    0 7584]\n",
      " [2574  936  988 2376 2752]\n",
      " [ 178 3870 8170 3380 1645]\n",
      " [1472 6348  532 1584 2279]]\n"
     ]
    }
   ],
   "source": [
    "import numpy as np\n",
    "\n",
    "def create_random_array(n):\n",
    "    if n % 5 == 0 and n > 20:\n",
    "        return np.random.randint(0, 100, n)\n",
    "    else:\n",
    "        print(\"n không chia hết cho 5 hoặc n không lớn hơn 20\")\n",
    "        return None #None == Null trong python\n",
    "\n",
    "def print_array(arr):\n",
    "    # Xuất mảng\n",
    "    print(\"Mảng 2 chiều:\")\n",
    "    print(arr)\n",
    "\n",
    "def reshape_array(arr):\n",
    "    return arr.reshape(-1, cot)\n",
    "\n",
    "def print_array_info(arr):\n",
    "    print(\"---Info---\")\n",
    "    print(\"Shape:\", arr.shape)\n",
    "    print(\"Number of dimensions:\", arr.ndim)\n",
    "    print(\"Data type:\", arr.dtype)\n",
    "    print(\"Size of each element (in bytes):\", arr.itemsize)\n",
    "    print(\"Total number of elements:\", arr.size)\n",
    "\n",
    "def count_occurrences(arr_2d, x):\n",
    "    return np.count_nonzero(arr_2d == x)\n",
    "\n",
    "def array_sum(arr1, arr2):\n",
    "    return np.add(arr1, arr2)\n",
    "\n",
    "def array_product(arr1, arr2):\n",
    "    return np.multiply(arr1, arr2)\n",
    "\n",
    "# Kiểm tra các hàm\n",
    "n = int(input(\"Nhập n:\"))\n",
    "a = create_random_array(n)\n",
    "if a is not None:\n",
    "    print(f\"Mảng 1 chiều: {a}\")\n",
    "    cot = int(input(\"Nhập số cột:\"))\n",
    "    print()\n",
    "    mang2chieu = reshape_array(a)\n",
    "    print_array(mang2chieu)\n",
    "    print()\n",
    "    print_array_info(mang2chieu)\n",
    "    x = int(input(\"Nhập số cần tìm:\"))\n",
    "    print()\n",
    "    print(f\"Số lần xuất hiện của giá trị {x} trong mảng 2 chiều:\", count_occurrences(mang2chieu, x))\n",
    "    a1 = np.random.randint(0, 100, mang2chieu.shape)\n",
    "    a2 = np.random.randint(0, 100, mang2chieu.shape)\n",
    "    print()\n",
    "    print(\"Tổng của hai mảng:\")\n",
    "    print(array_sum(a1, a2))\n",
    "    print()\n",
    "    print(\"Tích của hai mảng:\")\n",
    "    print(array_product(a1, a2))\n"
   ]
  }
 ],
 "metadata": {
  "kernelspec": {
   "display_name": "base",
   "language": "python",
   "name": "python3"
  },
  "language_info": {
   "codemirror_mode": {
    "name": "ipython",
    "version": 3
   },
   "file_extension": ".py",
   "mimetype": "text/x-python",
   "name": "python",
   "nbconvert_exporter": "python",
   "pygments_lexer": "ipython3",
   "version": "3.11.7"
  }
 },
 "nbformat": 4,
 "nbformat_minor": 2
}
