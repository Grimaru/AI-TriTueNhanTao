{
 "cells": [
  {
   "cell_type": "code",
   "execution_count": null,
   "metadata": {
    "dotnet_interactive": {
     "language": "csharp"
    },
    "polyglot_notebook": {
     "kernelName": "csharp"
    }
   },
   "outputs": [],
   "source": [
    "print(\"Bài 1\")"
   ]
  },
  {
   "cell_type": "code",
   "execution_count": null,
   "metadata": {
    "dotnet_interactive": {
     "language": "csharp"
    },
    "polyglot_notebook": {
     "kernelName": "csharp"
    }
   },
   "outputs": [],
   "source": [
    "n=int(input(\"Nhập số nguyên n: \"))\n",
    "if n > 0:\n",
    "    tong=0\n",
    "    for i in range(n):\n",
    "        i+=1\n",
    "        tong+=i\n",
    "    print(\"Tổng dãy số từ 1 đến\",n,\"là:\",tong)"
   ]
  },
  {
   "cell_type": "code",
   "execution_count": null,
   "metadata": {
    "dotnet_interactive": {
     "language": "csharp"
    },
    "polyglot_notebook": {
     "kernelName": "csharp"
    }
   },
   "outputs": [],
   "source": [
    "print(\"Bài 2\")"
   ]
  },
  {
   "cell_type": "code",
   "execution_count": null,
   "metadata": {
    "dotnet_interactive": {
     "language": "csharp"
    },
    "polyglot_notebook": {
     "kernelName": "csharp"
    }
   },
   "outputs": [],
   "source": [
    "n=int(input(\"Nhập số nguyên n: \"))\n",
    "total1=0\n",
    "total2=0\n",
    "for i in range(1, 1001):\n",
    "    if i%2==1: \n",
    "        total1=total1+i\n",
    "    if i%2==0: \n",
    "        total2=total2-i  \n",
    "total = total1 + total2 \n",
    "print(\"Kết quả là:\",total)\n"
   ]
  },
  {
   "cell_type": "code",
   "execution_count": null,
   "metadata": {
    "dotnet_interactive": {
     "language": "csharp"
    },
    "polyglot_notebook": {
     "kernelName": "csharp"
    }
   },
   "outputs": [],
   "source": [
    "print(\"Bài 3\")"
   ]
  },
  {
   "cell_type": "code",
   "execution_count": null,
   "metadata": {
    "dotnet_interactive": {
     "language": "csharp"
    },
    "polyglot_notebook": {
     "kernelName": "csharp"
    }
   },
   "outputs": [],
   "source": [
    "year=int(input(\"Nhập năm:\"))\n",
    "if (year % 4 == 0) and (year % 100 != 0) or (year % 400 == 0): \n",
    "    print(\"Năm\",year,\"là năm nhuận\") \n",
    "else: \n",
    "    print(\"Năm\",year,\"không là năm nhuận\")\n",
    "\n"
   ]
  },
  {
   "cell_type": "code",
   "execution_count": null,
   "metadata": {
    "dotnet_interactive": {
     "language": "csharp"
    },
    "polyglot_notebook": {
     "kernelName": "csharp"
    }
   },
   "outputs": [],
   "source": [
    "print(\"Bài 4\")"
   ]
  },
  {
   "cell_type": "code",
   "execution_count": null,
   "metadata": {
    "dotnet_interactive": {
     "language": "csharp"
    },
    "polyglot_notebook": {
     "kernelName": "csharp"
    }
   },
   "outputs": [],
   "source": [
    "c=int(input(\"Nhập độ C:\"))\n",
    "f=c*(9/5)+32 \n",
    "print(\"Độ F là:\",f)"
   ]
  },
  {
   "cell_type": "code",
   "execution_count": null,
   "metadata": {
    "dotnet_interactive": {
     "language": "csharp"
    },
    "polyglot_notebook": {
     "kernelName": "csharp"
    }
   },
   "outputs": [],
   "source": [
    "print(\"Bài 5 và Bài 6\") "
   ]
  },
  {
   "cell_type": "code",
   "execution_count": null,
   "metadata": {
    "dotnet_interactive": {
     "language": "csharp"
    },
    "polyglot_notebook": {
     "kernelName": "csharp"
    }
   },
   "outputs": [],
   "source": [
    "n=int(input(\"Nhập số nguyên n:\"))\n",
    "digits=[]    \n",
    "while n != 0:\n",
    "    digit = n % 10 \n",
    "    digits.append(digit)  \n",
    "    n = n // 10\n",
    "digits.reverse()\n",
    "print(\"Thứ tự xuôi:\",digits)\n",
    "\n",
    "digits.reverse()\n",
    "print(\"Thứ tự ngược lại:\", digits)\n"
   ]
  },
  {
   "cell_type": "code",
   "execution_count": null,
   "metadata": {
    "dotnet_interactive": {
     "language": "csharp"
    },
    "polyglot_notebook": {
     "kernelName": "csharp"
    }
   },
   "outputs": [],
   "source": [
    "print(\"Bài 7\")"
   ]
  },
  {
   "cell_type": "code",
   "execution_count": null,
   "metadata": {
    "dotnet_interactive": {
     "language": "csharp"
    },
    "polyglot_notebook": {
     "kernelName": "csharp"
    }
   },
   "outputs": [],
   "source": [
    "binary=str(input(\"Nhập dãy nhị phân:\"))\n",
    "decimal=int(input(\"Nhập số thập phân:\"))\n",
    "\n",
    "def bin_to_dec(daynhiphan):\n",
    "    dec=0\n",
    "    bac=0\n",
    "    for i in reversed(daynhiphan):\n",
    "        dec+=int(i)*(2**bac)\n",
    "        bac+=1\n",
    "    return dec\n",
    "\n",
    "def dec_to_bin(n):\n",
    "    if n==0:\n",
    "        return \"0\"\n",
    "    bin=\"\"\n",
    "    while n > 0:\n",
    "        bin=str(n%2)+bin\n",
    "        n//=2\n",
    "    return bin\n",
    "        \n",
    "result1=bin_to_dec(binary)\n",
    "result2=dec_to_bin(decimal)\n",
    "\n",
    "print(\"Số thập phân của dãy nhị phân trên là:\",result1)\n",
    "print(\"Dãy nhị phân của số thập phân trên là:\",result2)"
   ]
  },
  {
   "cell_type": "code",
   "execution_count": null,
   "metadata": {
    "dotnet_interactive": {
     "language": "csharp"
    },
    "polyglot_notebook": {
     "kernelName": "csharp"
    }
   },
   "outputs": [],
   "source": [
    "print(\"Bài 8\")"
   ]
  },
  {
   "cell_type": "code",
   "execution_count": null,
   "metadata": {
    "dotnet_interactive": {
     "language": "csharp"
    },
    "polyglot_notebook": {
     "kernelName": "csharp"
    }
   },
   "outputs": [],
   "source": [
    "a=int(input(\"Nhập số a:\"))\n",
    "b=int(input(\"Nhập số b:\"))\n",
    "c=int(input(\"Nhập số c:\"))\n",
    "print(f\"Phương trình bậc 2 là: {a}x^2 + {b}x + {c} = 0\")\n",
    "\n",
    "delta=(b**2)-(4*a*c)\n",
    "\n",
    "if delta<0:\n",
    "    print(\"Phương trình vô nghiệm\")\n",
    "if delta==0:\n",
    "    nghiemkep=(-1*b)/(2*a)\n",
    "    print(f\"Phương trình có nghiệm kép: a = {nghiemkep}\")\n",
    "if delta>0:\n",
    "    nghiem1=(-1*(b-(delta**(1/2))))/(2*a)\n",
    "    nghiem2=(-1*(b+(delta**(1/2))))/(2*a)\n",
    "    print(f\"Phương trình có hai nghiệm phân biệt: a={nghiem1} hoặc b={nghiem2}\")\n"
   ]
  },
  {
   "cell_type": "code",
   "execution_count": 1,
   "metadata": {},
   "outputs": [
    {
     "name": "stdout",
     "output_type": "stream",
     "text": [
      "Bài 9\n"
     ]
    }
   ],
   "source": [
    "print(\"Bài 9\")"
   ]
  },
  {
   "cell_type": "code",
   "execution_count": 5,
   "metadata": {},
   "outputs": [
    {
     "name": "stdout",
     "output_type": "stream",
     "text": [
      "Các thừa số nguyên tố của 5 là: [5]\n"
     ]
    }
   ],
   "source": [
    "def TimSoNguyenTo(n):\n",
    "    i = 2\n",
    "    SoNguyenTo = []\n",
    "    while i <= n:\n",
    "        if n % i == 0:\n",
    "            SoNguyenTo.append(i)\n",
    "            n //= i\n",
    "        else:\n",
    "            i += 1\n",
    "    return SoNguyenTo\n",
    "\n",
    "n = int(input(\"Nhập số nguyên dương n: \"))\n",
    "if n > 0:\n",
    "    answer = TimSoNguyenTo(n)\n",
    "    print(\"Số nguyên tố của\", n, \"là:\", answer)"
   ]
  },
  {
   "cell_type": "code",
   "execution_count": 6,
   "metadata": {},
   "outputs": [
    {
     "name": "stdout",
     "output_type": "stream",
     "text": [
      "Bài 10\n"
     ]
    }
   ],
   "source": [
    "print(\"Bài 10\")"
   ]
  },
  {
   "cell_type": "code",
   "execution_count": 4,
   "metadata": {},
   "outputs": [
    {
     "name": "stdout",
     "output_type": "stream",
     "text": [
      "Ngày đã nhập: 1-1-2019\n",
      "Ngày hôm trước: 31-12-2018\n",
      "Ngày hôm sau: 02-01-2019\n"
     ]
    }
   ],
   "source": [
    "def XacDinhNgayCuaThang(month, year):\n",
    "    if month in [1, 3, 5, 7, 8, 10, 12]:\n",
    "        return 31\n",
    "    if month in [4, 6, 9, 11]:\n",
    "        return 30\n",
    "    if month == 2:\n",
    "        if (year % 4 == 0) and (year % 100 != 0) or (year % 400 == 0): \n",
    "            return 29\n",
    "        else:\n",
    "            return 28\n",
    "    return 0\n",
    "\n",
    "def NgayHomTruoc(day, month, year):\n",
    "    if day > 1:\n",
    "        return day - 1, month, year\n",
    "    else:\n",
    "        if month == 1:\n",
    "            return 31, 12, year - 1\n",
    "        else:\n",
    "            month -= 1\n",
    "            day = XacDinhNgayCuaThang(month, year)\n",
    "            return day, month, year\n",
    "\n",
    "def NgayHomSau(day, month, year):\n",
    "    if day < XacDinhNgayCuaThang(month, year):\n",
    "        return day + 1, month, year\n",
    "    else:\n",
    "        if month == 12:\n",
    "            return 1, 1, year + 1\n",
    "        else:\n",
    "            month += 1\n",
    "            return 1, month, year\n",
    "\n",
    "\n",
    "date = input(\"Nhập vào ngày tháng năm: \")\n",
    "print(f\"Ngày đã nhập:\",date)\n",
    "day, month, year = map(int, date.split('-'))\n",
    "\n",
    "\n",
    "pday, pmonth, pyear = NgayHomTruoc(day, month, year)\n",
    "nday, nmonth, nyear = NgayHomSau(day, month, year)\n",
    "\n",
    "\n",
    "print(f\"Ngày hôm trước: {pday:02}-{pmonth:02}-{pyear}\")\n",
    "print(f\"Ngày hôm sau: {nday:02}-{nmonth:02}-{nyear}\")\n"
   ]
  },
  {
   "cell_type": "code",
   "execution_count": 9,
   "metadata": {},
   "outputs": [
    {
     "name": "stdout",
     "output_type": "stream",
     "text": [
      "Bài 11\n"
     ]
    }
   ],
   "source": [
    "print(\"Bài 11\")"
   ]
  },
  {
   "cell_type": "code",
   "execution_count": 6,
   "metadata": {},
   "outputs": [
    {
     "name": "stdout",
     "output_type": "stream",
     "text": [
      "Dãy số vừa nhập là: 10,1,5,34,100\n",
      "Tổng các số vừa nhập: 150\n",
      "Số lượng các số chẵn: 3\n",
      "Số lượng các số có 2 chữ số: 2\n"
     ]
    }
   ],
   "source": [
    "DaySo = input(\"Nhập một danh sách các số nguyên, cách nhau bằng dấu cách: \")\n",
    "PhanTu = list(map(int, DaySo.split(',')))\n",
    "\n",
    "TongDaySo = 0\n",
    "DemSoChan = 0\n",
    "DemSoHaiChuSo = 0\n",
    "\n",
    "for so in PhanTu:\n",
    "    TongDaySo += so\n",
    "    if so % 2 == 0:\n",
    "        DemSoChan += 1\n",
    "    if abs(so) in range (10,100):\n",
    "        DemSoHaiChuSo += 1\n",
    "\n",
    "print(\"Dãy số vừa nhập là:\",DaySo)\n",
    "print(\"Tổng các số vừa nhập:\",TongDaySo)\n",
    "print(\"Số lượng các số chẵn:\",DemSoChan)\n",
    "print(\"Số lượng các số có 2 chữ số:\",DemSoHaiChuSo)\n",
    "\n",
    "\n",
    "\n"
   ]
  },
  {
   "cell_type": "code",
   "execution_count": 1,
   "metadata": {},
   "outputs": [
    {
     "name": "stdout",
     "output_type": "stream",
     "text": [
      "Bài 12\n"
     ]
    }
   ],
   "source": [
    "print(\"Bài 12\")"
   ]
  },
  {
   "cell_type": "code",
   "execution_count": 1,
   "metadata": {},
   "outputs": [
    {
     "name": "stdout",
     "output_type": "stream",
     "text": [
      "Danh sách sau khi sắp xếp bằng Interchange Sort: [1, 2, 3, 5, 5, 8, 9, 10]\n",
      "Danh sách sau khi sắp xếp bằng Bubble Sort: [1, 2, 3, 5, 5, 8, 9, 10]\n"
     ]
    }
   ],
   "source": [
    "def hoan_vi(a, b):\n",
    "    temp = a\n",
    "    a = b\n",
    "    b = temp\n",
    "    return a, b\n",
    "\n",
    "def interchange_sort(arr):\n",
    "    n = len(arr)\n",
    "    for i in range(n - 1):\n",
    "        for j in range(i + 1, n):\n",
    "            if arr[i] > arr[j]:\n",
    "                arr[i], arr[j] = hoan_vi(arr[i], arr[j])\n",
    "\n",
    "def bubble_sort(arr):\n",
    "    n = len(arr)\n",
    "    for i in range(n - 1):\n",
    "        for j in range(n - 1):\n",
    "            if arr[j] > arr[j + 1]:\n",
    "                arr[j], arr[j + 1] = hoan_vi(arr[j], arr[j + 1])\n",
    "\n",
    "# Nhập danh sách các số nguyên từ người dùng\n",
    "DaySo = input(\"Nhập một danh sách các số nguyên: \")\n",
    "PhanTu = list(map(int, DaySo.split(',')))\n",
    "\n",
    "# Tạo bản sao của danh sách để sắp xếp bằng các thuật toán khác nhau\n",
    "PhanTu_interchange = PhanTu.copy()\n",
    "PhanTu_bubble = PhanTu.copy()\n",
    "\n",
    "# Sắp xếp bằng Interchange Sort\n",
    "interchange_sort(PhanTu_interchange)\n",
    "print(f\"Danh sách sau khi sắp xếp bằng Interchange Sort: {PhanTu_interchange}\")\n",
    "\n",
    "# Sắp xếp bằng Bubble Sort\n",
    "bubble_sort(PhanTu_bubble)\n",
    "print(f\"Danh sách sau khi sắp xếp bằng Bubble Sort: {PhanTu_bubble}\")"
   ]
  },
  {
   "cell_type": "code",
   "execution_count": 1,
   "metadata": {},
   "outputs": [
    {
     "name": "stdout",
     "output_type": "stream",
     "text": [
      "Bài 13\n"
     ]
    }
   ],
   "source": [
    "print(\"Bài 13\")"
   ]
  },
  {
   "cell_type": "code",
   "execution_count": null,
   "metadata": {},
   "outputs": [],
   "source": [
    "def sequential_search(arr, x):\n",
    "    for i in range(len(arr)):\n",
    "        if arr[i] == x:\n",
    "            return i\n",
    "    return -1\n",
    "\n",
    "def binary_search(arr, x):\n",
    "    left = 0\n",
    "    right = len(arr) - 1\n",
    "    while left <= right:\n",
    "        mid = (left + right) // 2\n",
    "        if arr[mid] == x:\n",
    "            return mid\n",
    "        elif arr[mid] < x:\n",
    "            left = mid + 1\n",
    "        else:\n",
    "            right = mid - 1\n",
    "    return -1\n",
    "\n",
    "# Nhập danh sách các số nguyên từ người dùng\n",
    "DaySo = input(\"Nhập một danh sách các số nguyên: \")\n",
    "PhanTu = list(map(int, DaySo.split(',')))\n",
    "\n",
    "# Nhập số cần tìm\n",
    "x = int(input(\"Nhập số cần tìm: \"))\n",
    "\n",
    "# Tìm kiếm tuần tự\n",
    "index_seq = sequential_search(PhanTu, x)\n",
    "if index_seq != -1:\n",
    "    print(f\"Số {x} được tìm thấy tại vị trí {index_seq} bằng tìm kiếm tuần tự.\")\n",
    "else:\n",
    "    print(f\"Số {x} không có trong danh sách theo tìm kiếm tuần tự.\")\n",
    "\n",
    "# Sắp xếp danh sách trước khi thực hiện tìm kiếm nhị phân\n",
    "PhanTu.sort()\n",
    "\n",
    "# Tìm kiếm nhị phân\n",
    "index_bin = binary_search(PhanTu, x)\n",
    "if index_bin != -1:\n",
    "    print(f\"Số {x} được tìm thấy tại vị trí {index_bin} trong danh sách đã sắp xếp bằng tìm kiếm nhị phân.\")\n",
    "else:\n",
    "    print(f\"Số {x} không có trong danh sách đã sắp xếp theo tìm kiếm nhị phân.\")\n"
   ]
  },
  {
   "cell_type": "code",
   "execution_count": 2,
   "metadata": {},
   "outputs": [
    {
     "name": "stdout",
     "output_type": "stream",
     "text": [
      "Bài 14\n"
     ]
    }
   ],
   "source": [
    "print(\"Bài 14\")"
   ]
  },
  {
   "cell_type": "code",
   "execution_count": 18,
   "metadata": {},
   "outputs": [
    {
     "name": "stdout",
     "output_type": "stream",
     "text": [
      "Ký tự cột 'Z' tương ứng với số 26\n",
      "Số 12 tương ứng với ký tự cột 'L'\n"
     ]
    }
   ],
   "source": [
    "alphabet=input(\"Nhập dãy alphabet:\") #Nhập A,B,C,D,E,F,G,H,I,J,K,L,M,N,O,P,Q,R,S,T,U,V,W,X,Y,Z vào\n",
    "phanTu=alphabet.split(',')\n",
    "def column_to_number(column):\n",
    "    result = 0\n",
    "    for char in column:\n",
    "        value = phanTu.index(char) + 1\n",
    "        result = result * 26 + value\n",
    "    return result\n",
    "\n",
    "def number_to_column(number):\n",
    "    result = \"\"\n",
    "    while number > 0:\n",
    "        number -= 1\n",
    "        du = number % 26\n",
    "        char = phanTu[du]  # Chuyển đổi phần dư thành ký tự\n",
    "        result = char + result  # Thêm ký tự vào kết quả\n",
    "        number //= 26\n",
    "    return result\n",
    "\n",
    "# Nhập chuỗi cột từ người dùng\n",
    "column = input(\"Nhập ký tự cột: \")\n",
    "to_number = column_to_number(column)\n",
    "print(f\"Ký tự cột '{column}' tương ứng với số {to_number}\")\n",
    "\n",
    "# Nhập số cột từ người dùng\n",
    "number = int(input(\"Nhập số cột: \"))\n",
    "to_column = number_to_column(number)\n",
    "print(f\"Số {number} tương ứng với ký tự cột '{to_column}'\")\n"
   ]
  },
  {
   "cell_type": "code",
   "execution_count": 13,
   "metadata": {},
   "outputs": [
    {
     "name": "stdout",
     "output_type": "stream",
     "text": [
      "Bài 15\n"
     ]
    }
   ],
   "source": [
    "print(\"Bài 15\")"
   ]
  },
  {
   "cell_type": "code",
   "execution_count": 15,
   "metadata": {},
   "outputs": [
    {
     "name": "stdout",
     "output_type": "stream",
     "text": [
      "Ma trận đơn vị cấp 4 là:\n",
      "[[1. 0. 0. 0.]\n",
      " [0. 1. 0. 0.]\n",
      " [0. 0. 1. 0.]\n",
      " [0. 0. 0. 1.]]\n"
     ]
    }
   ],
   "source": [
    "import numpy as np\n",
    "\n",
    "# Nhập số nguyên dương n từ người dùng\n",
    "n = int(input(\"Nhập số nguyên dương n: \"))\n",
    "\n",
    "# Tạo ma trận đơn vị cấp n\n",
    "matrix = np.eye(n)\n",
    "\n",
    "# Xuất ma trận đơn vị\n",
    "print(\"Ma trận đơn vị cấp\", n, \"là:\")\n",
    "print(matrix)\n"
   ]
  }
 ],
 "metadata": {
  "kernelspec": {
   "display_name": "base",
   "language": "python",
   "name": "python3"
  },
  "language_info": {
   "codemirror_mode": {
    "name": "ipython",
    "version": 3
   },
   "file_extension": ".py",
   "mimetype": "text/x-python",
   "name": "python",
   "nbconvert_exporter": "python",
   "pygments_lexer": "ipython3",
   "version": "3.11.7"
  },
  "polyglot_notebook": {
   "kernelInfo": {
    "defaultKernelName": "csharp",
    "items": [
     {
      "aliases": [],
      "name": "csharp"
     }
    ]
   }
  }
 },
 "nbformat": 4,
 "nbformat_minor": 2
}
